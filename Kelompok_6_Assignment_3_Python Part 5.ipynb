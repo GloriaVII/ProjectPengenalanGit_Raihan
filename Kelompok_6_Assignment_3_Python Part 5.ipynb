{
  "cells": [
    {
      "cell_type": "markdown",
      "metadata": {
        "id": "CqK2gYfRSIKk"
      },
      "source": [
        "KELOMPOK 6 :\n",
        "- Aida Darajati\n",
        "- Jihan Sasri Sajidah\n",
        "- Muhammad Jauhari\n",
        "- Raihan Putra Taufik"
      ]
    },
    {
      "cell_type": "markdown",
      "metadata": {
        "id": "xYBXpvJguf4i"
      },
      "source": [
        "Task1 (Basic OOP): Buatlah class MarketingDataETL yang memiliki tiga metode:\n",
        "\n",
        "1. extract(): akan membaca data dari sebuah file CSV (Misalkan, marketing_data.csv)\n",
        "\n",
        "2. transform(): akan melakukan pembersihan dan transformasi sederhana pada data (seperti mengubah format tanggal atau membersihkan nilai yang kosong)\n",
        "\n",
        "3. store(): akan menyimpan data yang telah ditransformasi ke dalam struktur data DataFramet."
      ]
    },
    {
      "cell_type": "code",
      "execution_count": 1,
      "metadata": {
        "colab": {
          "base_uri": "https://localhost:8080/"
        },
        "id": "6JgtpGsB9led",
        "outputId": "bc8e3566-512a-43e4-e7bc-c5625f8525fb"
      },
      "outputs": [
        {
          "name": "stdout",
          "output_type": "stream",
          "text": [
            "Data berhasil diekstrak.\n",
            "Data berhasil diubah.\n",
            "Data yang telah diubah berhasil disimpan ke transformed_marketing_data.csv.\n",
            "Beberapa baris pertama data yang telah diubah:\n",
            "  customer_id purchase_date product_category  amount_spent\n",
            "0        C001    2023-03-01      Electronics        250.00\n",
            "1        C002    2023-03-02            Books         45.50\n",
            "2        C003    2023-03-03    Home & Garden        150.75\n",
            "3        C001    2023-03-04            Books         20.00\n",
            "4        C002    2023-03-05      Electronics        525.00\n"
          ]
        }
      ],
      "source": [
        "import pandas as pd\n",
        "\n",
        "class MarketingDataETL:\n",
        "    def __init__(self):\n",
        "        self.data = None\n",
        "\n",
        "    def extract(self, filename):\n",
        "        try:\n",
        "            self.data = pd.read_csv(filename, sep=';')  # Menentukan delimiter sebagai titik koma\n",
        "            print(\"Data berhasil diekstrak.\")\n",
        "        except FileNotFoundError:\n",
        "            print(\"File tidak ditemukan. Mohon berikan nama file yang valid.\")\n",
        "        except Exception as e:\n",
        "            print(f\"Terjadi kesalahan saat ekstraksi: {e}\")\n",
        "\n",
        "    def transform(self):\n",
        "        if self.data is not None:\n",
        "            # Ubah format tanggal dari '03/01/23' menjadi '03-01-2023'\n",
        "            self.data['purchase_date'] = pd.to_datetime(self.data['purchase_date'], format='%d/%m/%y')\n",
        "            # Menghapus baris yang memiliki nilai kosong\n",
        "            self.data = self.data.dropna()\n",
        "            print(\"Data berhasil diubah.\")\n",
        "        else:\n",
        "            print(\"Tidak ada data untuk diubah. Mohon ekstrak data terlebih dahulu.\")\n",
        "\n",
        "    def store(self, output_filename):\n",
        "        if self.data is not None:\n",
        "            try:\n",
        "                self.data.to_csv(output_filename, index=False)  # Tidak perlu menentukan delimiter karena titik koma (;) adalah nilai default\n",
        "                print(f\"Data yang telah diubah berhasil disimpan ke {output_filename}.\")\n",
        "            except Exception as e:\n",
        "                print(f\"Gagal menyimpan data: {e}. Mohon periksa nama file output Anda.\")\n",
        "        else:\n",
        "            print(\"Tidak ada data untuk disimpan. Mohon ekstrak dan ubah data terlebih dahulu.\")\n",
        "\n",
        "# Contoh penggunaan:\n",
        "etl = MarketingDataETL()\n",
        "etl.extract(\"https://raw.githubusercontent.com/MrFarday/data/main/marketing_data.csv\")\n",
        "etl.transform()\n",
        "etl.store(\"transformed_marketing_data.csv\")\n",
        "\n",
        "# Membaca file CSV yang telah disimpan\n",
        "transformed_data = pd.read_csv(\"transformed_marketing_data.csv\")\n",
        "\n",
        "# Menampilkan beberapa baris pertama dari data yang telah diubah\n",
        "print(\"Beberapa baris pertama data yang telah diubah:\")\n",
        "print(transformed_data.head())\n"
      ]
    },
    {
      "cell_type": "markdown",
      "metadata": {
        "id": "Qbme4epNvjcp"
      },
      "source": [
        "Task 2: Inheritance & Polymorphism\n",
        "- Gunakan inheritance untuk membuat class TargetedMarketingETL yang mewarisi dari MarketingDataETL.\n",
        "\n",
        "- Tambahkan metode segment_customers() yang mengelompokkan pelanggan berdasarkan kriteria tertentu (misalnya, pengeluaran total atau kategori produk yang dibeli).\n",
        "\n",
        "- Demonstrasi polymorphism dengan meng-override metode transform() dalam TargetedMarketingETL untuk menambahkan logika segmentasi pelanggan ke dalam proses transformasi.\n"
      ]
    },
    {
      "cell_type": "code",
      "execution_count": 4,
      "metadata": {
        "colab": {
          "base_uri": "https://localhost:8080/"
        },
        "id": "Ov_7X6ziAyzP",
        "outputId": "f26d0d58-8235-47d2-9972-7dd9c6a3d57f"
      },
      "outputs": [
        {
          "name": "stdout",
          "output_type": "stream",
          "text": [
            "Data berhasil diekstrak.\n",
            "Data berhasil diubah.\n",
            "Segmentasi pelanggan berdasarkan total pengeluaran per kategori produk:\n",
            "product_category\n",
            "Beauty            75.00\n",
            "Books             65.50\n",
            "Electronics      775.00\n",
            "Home & Garden    150.75\n",
            "Name: amount_spent, dtype: float64\n",
            "Data yang telah diubah berhasil disimpan ke segmented_marketing_data.csv.\n"
          ]
        }
      ],
      "source": [
        "class TargetedMarketingETL(MarketingDataETL):\n",
        "    def __init__(self):\n",
        "        super().__init__()\n",
        "\n",
        "    def transform(self):\n",
        "        super().transform()  # Memanggil metode transform() dari kelas induk\n",
        "        self.segment_customers()\n",
        "\n",
        "    def segment_customers(self):\n",
        "        if self.data is not None:\n",
        "            # Contoh logika segmentasi sederhana: mengelompokkan pelanggan berdasarkan total pengeluaran dalam kategori produk tertentu\n",
        "            hasil_segmentasi = self.data.groupby('product_category')['amount_spent'].sum()\n",
        "            print(\"Segmentasi pelanggan berdasarkan total pengeluaran per kategori produk:\")\n",
        "            print(hasil_segmentasi)\n",
        "        else:\n",
        "            print(\"Tidak ada data untuk disegmentasikan. Mohon ekstrak dan ubah data terlebih dahulu.\")\n",
        "\n",
        "# Contoh penggunaan:\n",
        "etl = TargetedMarketingETL()\n",
        "etl.extract(\"https://raw.githubusercontent.com/MrFarday/data/main/marketing_data.csv\")\n",
        "etl.transform()\n",
        "etl.store(\"segmented_marketing_data.csv\")\n"
      ]
    }
  ],
  "metadata": {
    "colab": {
      "provenance": []
    },
    "kernelspec": {
      "display_name": "Python 3",
      "name": "python3"
    },
    "language_info": {
      "codemirror_mode": {
        "name": "ipython",
        "version": 3
      },
      "file_extension": ".py",
      "mimetype": "text/x-python",
      "name": "python",
      "nbconvert_exporter": "python",
      "pygments_lexer": "ipython3",
      "version": "3.11.8"
    }
  },
  "nbformat": 4,
  "nbformat_minor": 0
}
